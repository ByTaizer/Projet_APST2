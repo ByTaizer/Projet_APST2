{
 "cells": [
  {
   "cell_type": "markdown",
   "id": "cbed42ff",
   "metadata": {},
   "source": [
    "#### Roig Sébastien,"
   ]
  },
  {
   "cell_type": "markdown",
   "id": "4a0712f0",
   "metadata": {},
   "source": [
    "# Pendulum"
   ]
  },
  {
   "cell_type": "markdown",
   "id": "382f105e",
   "metadata": {},
   "source": [
    "## Reinforce"
   ]
  },
  {
   "cell_type": "code",
   "execution_count": 6,
   "id": "04a6c041",
   "metadata": {},
   "outputs": [],
   "source": [
    "import gymnasium as gym\n",
    "import pygame\n",
    "import numpy as np\n",
    "import matplotlib.pyplot as plt\n",
    "from collections import deque"
   ]
  },
  {
   "cell_type": "code",
   "execution_count": 36,
   "id": "ac0afb96",
   "metadata": {},
   "outputs": [
    {
     "name": "stdout",
     "output_type": "stream",
     "text": [
      "action space :\n",
      "Box(-2.0, 2.0, (1,), float32)\n",
      "observation space:\n",
      "Box([-1. -1. -8.], [1. 1. 8.], (3,), float32)\n",
      "[-0.03101382  0.99951893  0.265829  ]\n",
      "[-0.0891736  0.9960161  1.1654682]\n"
     ]
    }
   ],
   "source": [
    "env = gym.make(\"Pendulum-v1\")\n",
    "print('action space :')\n",
    "print(env.action_space)\n",
    "# print('left, down, right, up')\n",
    "print('observation space:')\n",
    "print(env.observation_space)\n",
    "# print('a 4x4 grid of positions')\n",
    "obs = env.reset()\n",
    "observation, reward, done, truncated, info = env.step([1])\n",
    "print(obs[0])\n",
    "print(observation)\n",
    "env.close()"
   ]
  },
  {
   "cell_type": "code",
   "execution_count": 63,
   "id": "76300c3b",
   "metadata": {},
   "outputs": [],
   "source": [
    "\n",
    "\n",
    "def train_opt_policy(N,eta = 0.001,gamma = 1, sig = 1):\n",
    "    env = gym.make(\"Pendulum-v1\")\n",
    "    env.reset()\n",
    "    teta = np.random.uniform(-0.05,0.05,3)\n",
    "    history = np.zeros(N)\n",
    "\n",
    "    for i in range(N):\n",
    "            grads = deque()\n",
    "            rewards = deque()\n",
    "            x = env.reset()\n",
    "            x = x[0]\n",
    "            done = False\n",
    "            truncated = False\n",
    "\n",
    "            while not done and not truncated:\n",
    "                mu = np.dot(x,teta)\n",
    "                action = np.random.normal(loc = mu, scale = sig) \n",
    "                while action > 2 or action < -2:\n",
    "                    action = np.random.normal(loc = mu, scale = sig)\n",
    "                grad = np.dot((action-mu)/sig**2, x)\n",
    "                x, reward, done, truncated, info = env.step([action])\n",
    "                grads.append(grad)\n",
    "                rewards.append(reward)\n",
    "\n",
    "                \n",
    "            history[i] = np.sum(rewards)\n",
    "            T = len(grads)\n",
    " \n",
    "            for t in range(T):\n",
    "                G = 0\n",
    "                for k in range(T-t):\n",
    "                    G += gamma**(k-t-1)*rewards[k]\n",
    "                grad = grads.popleft()\n",
    "                teta += np.dot(eta*gamma**t*G, grad)\n",
    "\n",
    "    env.close()\n",
    "    return teta, history"
   ]
  },
  {
   "cell_type": "code",
   "execution_count": 64,
   "id": "1da6bbb0-212e-4033-a82e-fd8b0a0f0ab1",
   "metadata": {},
   "outputs": [
    {
     "ename": "KeyboardInterrupt",
     "evalue": "",
     "output_type": "error",
     "traceback": [
      "\u001b[1;31m---------------------------------------------------------------------------\u001b[0m",
      "\u001b[1;31mKeyboardInterrupt\u001b[0m                         Traceback (most recent call last)",
      "Cell \u001b[1;32mIn[64], line 2\u001b[0m\n\u001b[0;32m      1\u001b[0m N \u001b[38;5;241m=\u001b[39m \u001b[38;5;241m1000\u001b[39m\n\u001b[1;32m----> 2\u001b[0m teta, history \u001b[38;5;241m=\u001b[39m \u001b[43mtrain_opt_policy\u001b[49m\u001b[43m(\u001b[49m\u001b[43mN\u001b[49m\u001b[43m)\u001b[49m\n\u001b[0;32m      3\u001b[0m \u001b[38;5;28mprint\u001b[39m(teta)\n\u001b[0;32m      4\u001b[0m plt\u001b[38;5;241m.\u001b[39mplot(np\u001b[38;5;241m.\u001b[39marange(N), history)\n",
      "Cell \u001b[1;32mIn[63], line 18\u001b[0m, in \u001b[0;36mtrain_opt_policy\u001b[1;34m(N, eta, gamma, sig)\u001b[0m\n\u001b[0;32m     16\u001b[0m mu \u001b[38;5;241m=\u001b[39m np\u001b[38;5;241m.\u001b[39mdot(x,teta)\n\u001b[0;32m     17\u001b[0m action \u001b[38;5;241m=\u001b[39m np\u001b[38;5;241m.\u001b[39mrandom\u001b[38;5;241m.\u001b[39mnormal(loc \u001b[38;5;241m=\u001b[39m mu, scale \u001b[38;5;241m=\u001b[39m sig)\n\u001b[1;32m---> 18\u001b[0m \u001b[38;5;28;01mwhile\u001b[39;00m action \u001b[38;5;241m>\u001b[39m \u001b[38;5;241m2\u001b[39m \u001b[38;5;129;01mor\u001b[39;00m \u001b[43maction\u001b[49m\u001b[43m \u001b[49m\u001b[38;5;241;43m<\u001b[39;49m\u001b[43m \u001b[49m\u001b[38;5;241;43m-\u001b[39;49m\u001b[38;5;241;43m2\u001b[39;49m:\n\u001b[0;32m     19\u001b[0m     action \u001b[38;5;241m=\u001b[39m np\u001b[38;5;241m.\u001b[39mrandom\u001b[38;5;241m.\u001b[39mnormal(loc \u001b[38;5;241m=\u001b[39m mu, scale \u001b[38;5;241m=\u001b[39m sig)\n\u001b[0;32m     20\u001b[0m grad \u001b[38;5;241m=\u001b[39m np\u001b[38;5;241m.\u001b[39mdot((action\u001b[38;5;241m-\u001b[39mmu)\u001b[38;5;241m/\u001b[39msig\u001b[38;5;241m*\u001b[39m\u001b[38;5;241m*\u001b[39m\u001b[38;5;241m2\u001b[39m, x)\n",
      "\u001b[1;31mKeyboardInterrupt\u001b[0m: "
     ]
    }
   ],
   "source": [
    "N = 1000\n",
    "teta, history = train_opt_policy(N)\n",
    "print(teta)\n",
    "plt.plot(np.arange(N), history)\n",
    "plt.xlabel('episode')\n",
    "plt.ylabel('reward')\n",
    "plt.title('evolution of reward per episode')\n",
    "plt.show()"
   ]
  },
  {
   "cell_type": "code",
   "execution_count": 62,
   "id": "f52db7d0-fe2e-4832-b07d-86fb7617b42e",
   "metadata": {},
   "outputs": [
    {
     "name": "stdout",
     "output_type": "stream",
     "text": [
      "0\n"
     ]
    }
   ],
   "source": [
    "# %load question_5.py\n",
    "\n",
    "\n",
    "sig = 1\n",
    "env = gym.make(\"Pendulum-v1\", render_mode = 'human')\n",
    "x = env.reset()\n",
    "x = x[0]\n",
    "number_step = 0\n",
    "done = False\n",
    "truncated = False\n",
    "while not done and truncated:\n",
    "    number_step += 1 \n",
    "    mu = phi(np.dot(x,teta))\n",
    "    action = np.random.normal(loc = mu, scale = sig)\n",
    "    while action > 2 or action < -2:\n",
    "        action = np.random.normal(loc = mu, scale = sig)\n",
    "    x, reward, done, truncated, info = env.step([action])\n",
    "    env.render()\n",
    "\n",
    "print(number_step)\n",
    "\n",
    "env.close()"
   ]
  },
  {
   "cell_type": "code",
   "execution_count": 46,
   "id": "5a54f267-84ab-459e-b644-f0a7663a1e5c",
   "metadata": {},
   "outputs": [
    {
     "data": {
      "text/plain": [
       "array([472996.74921718, 472996.82052121, 472996.77231337])"
      ]
     },
     "execution_count": 46,
     "metadata": {},
     "output_type": "execute_result"
    }
   ],
   "source": [
    "teta"
   ]
  },
  {
   "cell_type": "code",
   "execution_count": null,
   "id": "28d36080-309d-4cba-9e26-b465a7ccb47d",
   "metadata": {},
   "outputs": [],
   "source": []
  }
 ],
 "metadata": {
  "kernelspec": {
   "display_name": "Python 3.10 (tensorflow)",
   "language": "python",
   "name": "tensorflow"
  },
  "language_info": {
   "codemirror_mode": {
    "name": "ipython",
    "version": 3
   },
   "file_extension": ".py",
   "mimetype": "text/x-python",
   "name": "python",
   "nbconvert_exporter": "python",
   "pygments_lexer": "ipython3",
   "version": "3.10.9"
  }
 },
 "nbformat": 4,
 "nbformat_minor": 5
}
